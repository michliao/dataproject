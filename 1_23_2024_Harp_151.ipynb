{
  "nbformat": 4,
  "nbformat_minor": 0,
  "metadata": {
    "colab": {
      "provenance": [],
      "authorship_tag": "ABX9TyOPwc5Qiduh/KR0sO1P43o3",
      "include_colab_link": true
    },
    "kernelspec": {
      "name": "python3",
      "display_name": "Python 3"
    },
    "language_info": {
      "name": "python"
    }
  },
  "cells": [
    {
      "cell_type": "markdown",
      "metadata": {
        "id": "view-in-github",
        "colab_type": "text"
      },
      "source": [
        "<a href=\"https://colab.research.google.com/github/michliao/dataproject/blob/main/1_23_2024_Harp_151.ipynb\" target=\"_parent\"><img src=\"https://colab.research.google.com/assets/colab-badge.svg\" alt=\"Open In Colab\"/></a>"
      ]
    },
    {
      "cell_type": "code",
      "execution_count": null,
      "metadata": {
        "colab": {
          "base_uri": "https://localhost:8080/"
        },
        "id": "7y9EDVat9MFa",
        "outputId": "1a490dd9-74c0-41ee-df8b-67e22a0d0b8a"
      },
      "outputs": [
        {
          "output_type": "stream",
          "name": "stdout",
          "text": [
            "tiger\n"
          ]
        }
      ],
      "source": [
        "#basic class\n",
        "class Animal:\n",
        "  def __init__(self,species):\n",
        "    self.species = species\n",
        "\n",
        "  def description(self):\n",
        "    print(self.species)\n",
        "\n",
        "a1 = Animal(\"tiger\")\n",
        "a1.description()"
      ]
    },
    {
      "cell_type": "code",
      "source": [
        "#reserved keywords\n",
        "True\n",
        "if\n",
        "else\n",
        "import\n",
        "False"
      ],
      "metadata": {
        "id": "XsGuU-2fBhXV"
      },
      "execution_count": null,
      "outputs": []
    },
    {
      "cell_type": "code",
      "source": [
        "list\n",
        "tuple\n",
        "dictionary\n",
        "set"
      ],
      "metadata": {
        "id": "BRXi3gNqBr2W"
      },
      "execution_count": null,
      "outputs": []
    },
    {
      "cell_type": "code",
      "source": [
        "while loop -> +=/-= operator"
      ],
      "metadata": {
        "id": "aY5_5eAzEkmO"
      },
      "execution_count": null,
      "outputs": []
    },
    {
      "cell_type": "code",
      "source": [
        "return stores. print doesnt."
      ],
      "metadata": {
        "id": "szMqxaxxFIhM"
      },
      "execution_count": null,
      "outputs": []
    },
    {
      "cell_type": "code",
      "source": [
        "str() casts variables into strings\n",
        "int()\n",
        "float()"
      ],
      "metadata": {
        "id": "n9H0iCfdGEVM"
      },
      "execution_count": null,
      "outputs": []
    },
    {
      "cell_type": "code",
      "source": [
        "parameter - rules of a function\n",
        "argument - what you plug in when you call a function"
      ],
      "metadata": {
        "id": "0inaF2XfG7oW"
      },
      "execution_count": null,
      "outputs": []
    },
    {
      "cell_type": "code",
      "source": [],
      "metadata": {
        "id": "frtPgZ7EHiuw"
      },
      "execution_count": null,
      "outputs": []
    }
  ]
}